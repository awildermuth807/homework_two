{
 "cells": [
  {
   "cell_type": "code",
   "execution_count": 6,
   "id": "2323c9ac",
   "metadata": {},
   "outputs": [
    {
     "name": "stdout",
     "output_type": "stream",
     "text": [
      "b is greater\n"
     ]
    }
   ],
   "source": [
    "#if...elif...else\n",
    "#if a equals b, return \"they are equal\", if a > b return \"a is greater,\" and b> a \"be is greaterer\"\n",
    "a=2\n",
    "b=3\n",
    "\n",
    "#what happens if you do if a>=b  instead of the elif line?\n",
    "if a==b:\n",
    "    print(\"they are equal\")\n",
    "elif a>b:\n",
    "    print(\"a is greater\")\n",
    "#elif b>a: OR else:....NOT else b>a:\n",
    "else:\n",
    "    print(\"b is greater\")"
   ]
  },
  {
   "cell_type": "code",
   "execution_count": 7,
   "id": "d48818a3",
   "metadata": {},
   "outputs": [
    {
     "name": "stdout",
     "output_type": "stream",
     "text": [
      "7\n",
      "6\n"
     ]
    }
   ],
   "source": [
    "#while loops\n",
    "#repeatedly testing an expression and continuing to run what happens in the loop until a condition is met\n",
    "x = 7\n",
    "while x > 5:\n",
    "    print(x)\n",
    "    #x= x -1 OR...\n",
    "    x-=1"
   ]
  },
  {
   "cell_type": "code",
   "execution_count": 13,
   "id": "2cf5097e",
   "metadata": {},
   "outputs": [
    {
     "name": "stdout",
     "output_type": "stream",
     "text": [
      "3\n",
      "4\n",
      "5\n",
      "6\n",
      "7\n",
      "8\n",
      "9\n"
     ]
    }
   ],
   "source": [
    "#create a scenario where x starts at 3 and is incremented, and you print the value of x while x is less than 10\n",
    "\n",
    "x=3\n",
    "while x < 10:\n",
    "    print(x)\n",
    "    x+=1\n",
    "    \n"
   ]
  },
  {
   "cell_type": "code",
   "execution_count": 17,
   "id": "78584c00",
   "metadata": {},
   "outputs": [
    {
     "name": "stdout",
     "output_type": "stream",
     "text": [
      "Dexter\n",
      "Frank\n",
      "Tigger\n",
      "Panda\n",
      "Penguin\n",
      "Basil\n"
     ]
    }
   ],
   "source": [
    "#for Loops\n",
    "#x is the \"iterator\"--the iterator can be anything\n",
    "cats = [\"Dexter\", \"Frank\", \"Tigger\", \"Panda\", \"Penguin\", \"Basil\"]\n",
    "for x in cats:\n",
    "    print(x)"
   ]
  },
  {
   "cell_type": "code",
   "execution_count": 18,
   "id": "c8e84f57",
   "metadata": {},
   "outputs": [
    {
     "name": "stdout",
     "output_type": "stream",
     "text": [
      "0\n",
      "2\n",
      "4\n",
      "6\n",
      "8\n"
     ]
    }
   ],
   "source": [
    "#https://docs.python.org/3/library/functions.html#func-range\n",
    "#range(start, stop[,step])\n",
    "#the start value is inclusive BUT stop value is NOT\n",
    "\n",
    "#for r in range(0,10,2): 2 is the STEP--does every 2 values\n",
    "for r in range(0,10,2):\n",
    "    print(r)"
   ]
  },
  {
   "cell_type": "code",
   "execution_count": 19,
   "id": "8e6ea562",
   "metadata": {},
   "outputs": [
    {
     "name": "stdout",
     "output_type": "stream",
     "text": [
      "b is greater\n",
      "a is greater\n"
     ]
    }
   ],
   "source": [
    "#functions\n",
    "#functions let us encapsulate chunks of code that we might want to use again\n",
    "\n",
    "def comparing (a,b):\n",
    "    if a==b:\n",
    "        print(\"they are equal\")\n",
    "    elif a>b:\n",
    "        print(\"a is greater\")\n",
    "    else:\n",
    "        print(\"b is greater\")\n",
    "comparing(7,10)\n",
    "comparing(12,10)"
   ]
  },
  {
   "cell_type": "code",
   "execution_count": null,
   "id": "a610af65",
   "metadata": {},
   "outputs": [],
   "source": []
  }
 ],
 "metadata": {
  "kernelspec": {
   "display_name": "Python 3 (ipykernel)",
   "language": "python",
   "name": "python3"
  },
  "language_info": {
   "codemirror_mode": {
    "name": "ipython",
    "version": 3
   },
   "file_extension": ".py",
   "mimetype": "text/x-python",
   "name": "python",
   "nbconvert_exporter": "python",
   "pygments_lexer": "ipython3",
   "version": "3.9.7"
  }
 },
 "nbformat": 4,
 "nbformat_minor": 5
}
