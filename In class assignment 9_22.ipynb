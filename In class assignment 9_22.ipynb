{
 "cells": [
  {
   "cell_type": "code",
   "execution_count": 19,
   "id": "f002d6e5",
   "metadata": {},
   "outputs": [
    {
     "name": "stdout",
     "output_type": "stream",
     "text": [
      "weird\n"
     ]
    }
   ],
   "source": [
    "def task(n):\n",
    "    if n%2!=0:\n",
    "        print('weird')\n",
    "    elif n%2==0 and n in range(2,6):\n",
    "        print('not weird')\n",
    "    elif n%2==0 and n in range (6,21):\n",
    "            print('weird')\n",
    "    elif n%2== 0 and n>20:\n",
    "            print('not weird')\n",
    "task(3)"
   ]
  },
  {
   "cell_type": "code",
   "execution_count": 17,
   "id": "a7d37b2c",
   "metadata": {},
   "outputs": [
    {
     "name": "stdout",
     "output_type": "stream",
     "text": [
      "not weird\n"
     ]
    }
   ],
   "source": [
    "task (24)"
   ]
  },
  {
   "cell_type": "code",
   "execution_count": null,
   "id": "f30485c5",
   "metadata": {},
   "outputs": [],
   "source": []
  }
 ],
 "metadata": {
  "kernelspec": {
   "display_name": "Python 3 (ipykernel)",
   "language": "python",
   "name": "python3"
  },
  "language_info": {
   "codemirror_mode": {
    "name": "ipython",
    "version": 3
   },
   "file_extension": ".py",
   "mimetype": "text/x-python",
   "name": "python",
   "nbconvert_exporter": "python",
   "pygments_lexer": "ipython3",
   "version": "3.9.7"
  }
 },
 "nbformat": 4,
 "nbformat_minor": 5
}
